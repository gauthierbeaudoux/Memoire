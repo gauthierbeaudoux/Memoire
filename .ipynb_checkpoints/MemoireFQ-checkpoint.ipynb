{
 "cells": [
  {
   "cell_type": "code",
   "execution_count": 1,
   "id": "294dc149-c16b-46c5-952f-88dd6582643f",
   "metadata": {},
   "outputs": [],
   "source": [
    "import numpy as np"
   ]
  },
  {
   "cell_type": "markdown",
   "id": "fc135f17-b9e3-42e3-8ff5-fa8f68a021c8",
   "metadata": {},
   "source": [
    "# Pricing par méthode de Monte-Carlo"
   ]
  },
  {
   "cell_type": "markdown",
   "id": "353debc4-9212-44f8-8a04-d54d624720cd",
   "metadata": {},
   "source": [
    "## Méthode de simulation"
   ]
  },
  {
   "cell_type": "markdown",
   "id": "ffa1d8c7-c5b5-4738-b2e6-f92e6e0532e0",
   "metadata": {},
   "source": [
    "On a l'expression du rendement de l'actif sous-jacent S"
   ]
  },
  {
   "cell_type": "code",
   "execution_count": null,
   "id": "7c4de958-0a2a-4931-af84-7a41cbb70ef5",
   "metadata": {},
   "outputs": [],
   "source": []
  }
 ],
 "metadata": {
  "kernelspec": {
   "display_name": "Python 3 (ipykernel)",
   "language": "python",
   "name": "python3"
  },
  "language_info": {
   "codemirror_mode": {
    "name": "ipython",
    "version": 3
   },
   "file_extension": ".py",
   "mimetype": "text/x-python",
   "name": "python",
   "nbconvert_exporter": "python",
   "pygments_lexer": "ipython3",
   "version": "3.11.1"
  }
 },
 "nbformat": 4,
 "nbformat_minor": 5
}
