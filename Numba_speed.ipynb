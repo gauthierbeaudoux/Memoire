{
 "cells": [
  {
   "cell_type": "markdown",
   "id": "185ff847-3e19-4bdf-a282-3bd1d223ddf4",
   "metadata": {},
   "source": [
    "Petit notebook juste pour montrer la rapidité du module numba.\n",
    "Je vais utiliser le décorateur njit qui permet d'appliquer la compilation numba en étant sûr que la fonction ne soit pas exécutée en python."
   ]
  },
  {
   "cell_type": "code",
   "execution_count": 1,
   "id": "6df63698-a952-4476-bdf8-1e0df5800b12",
   "metadata": {},
   "outputs": [],
   "source": [
    "import numpy as np\n",
    "from numba import njit"
   ]
  },
  {
   "cell_type": "markdown",
   "id": "8b27fc5b-c66a-466e-8ec2-27977e12ab64",
   "metadata": {},
   "source": [
    "Fonction qui crée une liste de n nombres ayant leur indice au carré comme valeur puis calcule la somme totale"
   ]
  },
  {
   "cell_type": "code",
   "execution_count": 2,
   "id": "e2c8e5dd-dcad-4b00-bcee-55b8cd4f47f7",
   "metadata": {},
   "outputs": [],
   "source": [
    "def append_list(nombre: int) -> int:\n",
    "    l: list[int] = []\n",
    "    for i in range(nombre):\n",
    "        l.append(i**2)\n",
    "    return sum(l)"
   ]
  },
  {
   "cell_type": "code",
   "execution_count": 3,
   "id": "25448afd-6ae1-4f13-88dd-0c56b17e6988",
   "metadata": {},
   "outputs": [],
   "source": [
    "nombres = int(1e6)"
   ]
  },
  {
   "cell_type": "code",
   "execution_count": 4,
   "id": "b7ff1bab-8d6c-4d5e-8387-460904de174b",
   "metadata": {},
   "outputs": [
    {
     "name": "stdout",
     "output_type": "stream",
     "text": [
      "62.6 ms ± 314 µs per loop (mean ± std. dev. of 7 runs, 10 loops each)\n"
     ]
    }
   ],
   "source": [
    "%timeit append_list(nombres)"
   ]
  },
  {
   "cell_type": "markdown",
   "id": "7f1075ab-dabd-47cf-a173-2056bd06e7ee",
   "metadata": {},
   "source": [
    "Exactement la même fonction mais avec numba"
   ]
  },
  {
   "cell_type": "code",
   "execution_count": 5,
   "id": "8fc0d258-add8-4ecd-b82b-3f68f668852a",
   "metadata": {},
   "outputs": [
    {
     "data": {
      "text/plain": [
       "0"
      ]
     },
     "execution_count": 5,
     "metadata": {},
     "output_type": "execute_result"
    }
   ],
   "source": [
    "@njit\n",
    "def append_list_numba(nombre: int) -> int:\n",
    "    l: list[int] = []\n",
    "    for i in range(nombre):\n",
    "        l.append(i**2)\n",
    "    return sum(l)\n",
    "\n",
    "# Petite particularité, le code est compilé donc la première exécution prend plus de temps, je l'appelle donc une première fois pour le compiler\n",
    "append_list_numba(1)"
   ]
  },
  {
   "cell_type": "code",
   "execution_count": 6,
   "id": "cb293440-1379-4969-9d1d-0a0900cca6d1",
   "metadata": {},
   "outputs": [
    {
     "name": "stdout",
     "output_type": "stream",
     "text": [
      "8.14 ms ± 121 µs per loop (mean ± std. dev. of 7 runs, 100 loops each)\n"
     ]
    }
   ],
   "source": [
    "%timeit append_list_numba(nombres)"
   ]
  },
  {
   "cell_type": "markdown",
   "id": "4d3a360c-4f04-44ea-abe2-764e702ed64e",
   "metadata": {},
   "source": [
    "Quasiment 8 fois plus rapide en ne faisant rien.\n",
    "Imaginons qu'on l'optimise un peu."
   ]
  },
  {
   "cell_type": "code",
   "execution_count": 7,
   "id": "28bfc27e-4963-4abb-a584-b8d807839692",
   "metadata": {},
   "outputs": [
    {
     "data": {
      "text/plain": [
       "0.0"
      ]
     },
     "execution_count": 7,
     "metadata": {},
     "output_type": "execute_result"
    }
   ],
   "source": [
    "@njit\n",
    "def append_list_numba_opt(nombre: int) -> int:\n",
    "    # On crée directement un array de la bonne taille pour ne pas avoir à changer sa taille à chaque fois\n",
    "    np_list: np.NDArray[int] = np.zeros(nombre)\n",
    "    for i in range(nombre):\n",
    "        np_list[i] = i**2\n",
    "    return np.sum(np_list)\n",
    "\n",
    "append_list_numba_opt(1)"
   ]
  },
  {
   "cell_type": "code",
   "execution_count": 8,
   "id": "d3f40e2d-65a7-4093-ae81-08ae47035fb5",
   "metadata": {},
   "outputs": [
    {
     "name": "stdout",
     "output_type": "stream",
     "text": [
      "2.79 ms ± 91.3 µs per loop (mean ± std. dev. of 7 runs, 100 loops each)\n"
     ]
    }
   ],
   "source": [
    "%timeit append_list_numba_opt(nombres)"
   ]
  },
  {
   "cell_type": "markdown",
   "id": "7ff47db9-f1f6-479d-9ad4-ded14a6f252b",
   "metadata": {},
   "source": [
    "~22 fois plus rapide que la fonction initiale"
   ]
  },
  {
   "cell_type": "markdown",
   "id": "0d77185c-ce3c-401b-9e11-fccf4bc00b1a",
   "metadata": {},
   "source": [
    "Et même si ici on peut se dire que c'est efficace parce-qu'on crée une liste et append à chaque fois, ça fonctionne aussi avec des fonctions beaucoup plus simples.\n",
    "On va créer deux nouvelles fonctions réalisant le même calcul que précédemment mais sans passer par la création de liste."
   ]
  },
  {
   "cell_type": "code",
   "execution_count": 9,
   "id": "53412889-8eb0-4ba0-9e0f-2fbf274b1b47",
   "metadata": {},
   "outputs": [],
   "source": [
    "def calcul_direct(nombre: int):\n",
    "    somme = 0\n",
    "    for i in range(nombre):\n",
    "        somme += i**2\n",
    "    return somme"
   ]
  },
  {
   "cell_type": "code",
   "execution_count": 10,
   "id": "92b85e6a-e015-4bc4-a0b8-1a2090543f9d",
   "metadata": {},
   "outputs": [],
   "source": [
    "nombres2 = int(1e6)"
   ]
  },
  {
   "cell_type": "code",
   "execution_count": 11,
   "id": "1ed1a5a5-ee1f-4858-b111-e1507ae78785",
   "metadata": {},
   "outputs": [
    {
     "name": "stdout",
     "output_type": "stream",
     "text": [
      "37.4 ms ± 313 µs per loop (mean ± std. dev. of 7 runs, 10 loops each)\n"
     ]
    }
   ],
   "source": [
    "%timeit calcul_direct(nombres2)"
   ]
  },
  {
   "cell_type": "code",
   "execution_count": 12,
   "id": "8aa5ef9d-1339-4651-b48a-97e4fc259baa",
   "metadata": {},
   "outputs": [
    {
     "data": {
      "text/plain": [
       "0"
      ]
     },
     "execution_count": 12,
     "metadata": {},
     "output_type": "execute_result"
    }
   ],
   "source": [
    "@njit\n",
    "def calcul_direct_numba(nombre: int):\n",
    "    somme = 0\n",
    "    for i in range(nombre):\n",
    "        somme += i**2\n",
    "    return somme\n",
    "\n",
    "calcul_direct_numba(1)"
   ]
  },
  {
   "cell_type": "code",
   "execution_count": 13,
   "id": "27e06605-e782-49f4-ba02-e37c212e4430",
   "metadata": {},
   "outputs": [
    {
     "name": "stdout",
     "output_type": "stream",
     "text": [
      "476 µs ± 1.11 µs per loop (mean ± std. dev. of 7 runs, 1,000 loops each)\n"
     ]
    }
   ],
   "source": [
    "%timeit calcul_direct_numba(nombres2)"
   ]
  },
  {
   "cell_type": "markdown",
   "id": "a6941693-b41b-4860-8b16-210c4066d111",
   "metadata": {},
   "source": [
    "~80 fois plus rapide ... alors qu'on fait juste une boucle ..."
   ]
  },
  {
   "cell_type": "code",
   "execution_count": null,
   "id": "697b7e9b-7bcf-4d39-bd6d-587f5c9f80b1",
   "metadata": {},
   "outputs": [],
   "source": []
  }
 ],
 "metadata": {
  "kernelspec": {
   "display_name": "Python 3 (ipykernel)",
   "language": "python",
   "name": "python3"
  },
  "language_info": {
   "codemirror_mode": {
    "name": "ipython",
    "version": 3
   },
   "file_extension": ".py",
   "mimetype": "text/x-python",
   "name": "python",
   "nbconvert_exporter": "python",
   "pygments_lexer": "ipython3",
   "version": "3.11.1"
  }
 },
 "nbformat": 4,
 "nbformat_minor": 5
}
