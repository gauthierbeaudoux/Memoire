{
 "cells": [
  {
   "cell_type": "code",
   "execution_count": 10,
   "id": "294dc149-c16b-46c5-952f-88dd6582643f",
   "metadata": {},
   "outputs": [],
   "source": [
    "import numpy as np\n",
    "import matplotlib.pyplot as plt"
   ]
  },
  {
   "cell_type": "markdown",
   "id": "fc135f17-b9e3-42e3-8ff5-fa8f68a021c8",
   "metadata": {},
   "source": [
    "# Pricing par méthode de Monte-Carlo"
   ]
  },
  {
   "cell_type": "markdown",
   "id": "353debc4-9212-44f8-8a04-d54d624720cd",
   "metadata": {},
   "source": [
    "## Méthode de simulation"
   ]
  },
  {
   "cell_type": "markdown",
   "id": "ffa1d8c7-c5b5-4738-b2e6-f92e6e0532e0",
   "metadata": {},
   "source": [
    "On a l'expression du rendement de l'actif sous-jacent S :\n",
    "\n",
    "$\\frac{dS_t}{S_t} = (r-d)dt + \\sigma dW_t$"
   ]
  },
  {
   "cell_type": "markdown",
   "id": "1a256b44-21ab-49d9-9a63-a166ce7cdde0",
   "metadata": {},
   "source": [
    "Définissons tout d'abord le mouvement brownien"
   ]
  },
  {
   "cell_type": "code",
   "execution_count": 20,
   "id": "bc5b8c2c-f682-4750-a2c0-89d554387437",
   "metadata": {},
   "outputs": [],
   "source": [
    "def mouvement_brownien_standard(n, T, x0, r):\n",
    "    t = np.linspace(0, T, n)\n",
    "    dt = t[1] - t[0]\n",
    "    B = np.zeros(n)\n",
    "    for i in range(1, n+1):\n",
    "        B[i] = B[i-1] + np.random.normal(scale=np.sqrt(dt))\n",
    "    return B"
   ]
  },
  {
   "cell_type": "code",
   "execution_count": null,
   "id": "52303ff9-4faa-40ff-aa7c-ac2b8202c7f0",
   "metadata": {},
   "outputs": [],
   "source": []
  }
 ],
 "metadata": {
  "kernelspec": {
   "display_name": "Python 3 (ipykernel)",
   "language": "python",
   "name": "python3"
  },
  "language_info": {
   "codemirror_mode": {
    "name": "ipython",
    "version": 3
   },
   "file_extension": ".py",
   "mimetype": "text/x-python",
   "name": "python",
   "nbconvert_exporter": "python",
   "pygments_lexer": "ipython3",
   "version": "3.9.6"
  }
 },
 "nbformat": 4,
 "nbformat_minor": 5
}
